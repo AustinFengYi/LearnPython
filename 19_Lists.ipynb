{
 "cells": [
  {
   "cell_type": "code",
   "execution_count": 1,
   "id": "incorporated-kenya",
   "metadata": {},
   "outputs": [
    {
     "name": "stdout",
     "output_type": "stream",
     "text": [
      "John\n"
     ]
    }
   ],
   "source": [
    "names = ['John', 'Mary', 'Dell', 'Zebra', 'Allen']\n",
    "print(names[0])"
   ]
  },
  {
   "cell_type": "code",
   "execution_count": 2,
   "id": "optimum-salem",
   "metadata": {},
   "outputs": [
    {
     "name": "stdout",
     "output_type": "stream",
     "text": [
      "Dell\n"
     ]
    }
   ],
   "source": [
    "names = ['John', 'Mary', 'Dell', 'Zebra', 'Allen']\n",
    "print(names[2])"
   ]
  },
  {
   "cell_type": "code",
   "execution_count": 3,
   "id": "psychological-journalism",
   "metadata": {},
   "outputs": [
    {
     "name": "stdout",
     "output_type": "stream",
     "text": [
      "Allen\n"
     ]
    }
   ],
   "source": [
    "names = ['John', 'Mary', 'Dell', 'Zebra', 'Allen']\n",
    "print(names[-1])"
   ]
  },
  {
   "cell_type": "code",
   "execution_count": 4,
   "id": "northern-somalia",
   "metadata": {},
   "outputs": [
    {
     "name": "stdout",
     "output_type": "stream",
     "text": [
      "['Dell', 'Zebra', 'Allen']\n"
     ]
    }
   ],
   "source": [
    "names = ['John', 'Mary', 'Dell', 'Zebra', 'Allen']\n",
    "print(names[2:])"
   ]
  },
  {
   "cell_type": "code",
   "execution_count": 5,
   "id": "color-jacob",
   "metadata": {},
   "outputs": [
    {
     "name": "stdout",
     "output_type": "stream",
     "text": [
      "['Dell', 'Zebra']\n"
     ]
    }
   ],
   "source": [
    "names = ['John', 'Mary', 'Dell', 'Zebra', 'Allen']\n",
    "print(names[2:4])"
   ]
  },
  {
   "cell_type": "code",
   "execution_count": 6,
   "id": "welsh-relationship",
   "metadata": {},
   "outputs": [
    {
     "name": "stdout",
     "output_type": "stream",
     "text": [
      "['John', 'Mary', 'Dell', 'Zebra', 'Allen']\n"
     ]
    }
   ],
   "source": [
    "names = ['John', 'Mary', 'Dell', 'Zebra', 'Allen']\n",
    "print(names[:])"
   ]
  },
  {
   "cell_type": "code",
   "execution_count": 7,
   "id": "false-episode",
   "metadata": {},
   "outputs": [
    {
     "name": "stdout",
     "output_type": "stream",
     "text": [
      "['Henry', 'Mary', 'Dell', 'Zebra', 'Allen']\n"
     ]
    }
   ],
   "source": [
    "names = ['John', 'Mary', 'Dell', 'Zebra', 'Allen']\n",
    "names[0] = 'Henry'\n",
    "print(names[:])"
   ]
  },
  {
   "cell_type": "code",
   "execution_count": 9,
   "id": "sporting-trunk",
   "metadata": {},
   "outputs": [
    {
     "name": "stdout",
     "output_type": "stream",
     "text": [
      "76\n"
     ]
    }
   ],
   "source": [
    "# Write a program the find the largest number in a list\n",
    "lists = [10,45,65,2,35,76,23,6]\n",
    "max_number = 0\n",
    "\n",
    "for i in lists:\n",
    "    if i > max_number:\n",
    "        max_number = i\n",
    "print(max_number)"
   ]
  },
  {
   "cell_type": "code",
   "execution_count": null,
   "id": "suited-remedy",
   "metadata": {},
   "outputs": [],
   "source": []
  }
 ],
 "metadata": {
  "kernelspec": {
   "display_name": "Python 3",
   "language": "python",
   "name": "python3"
  },
  "language_info": {
   "codemirror_mode": {
    "name": "ipython",
    "version": 3
   },
   "file_extension": ".py",
   "mimetype": "text/x-python",
   "name": "python",
   "nbconvert_exporter": "python",
   "pygments_lexer": "ipython3",
   "version": "3.6.12"
  }
 },
 "nbformat": 4,
 "nbformat_minor": 5
}
