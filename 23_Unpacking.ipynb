{
 "cells": [
  {
   "cell_type": "code",
   "execution_count": 2,
   "id": "amino-fitness",
   "metadata": {},
   "outputs": [
    {
     "name": "stdout",
     "output_type": "stream",
     "text": [
      "6\n"
     ]
    }
   ],
   "source": [
    "coordinates = (1,2,3)\n",
    "res = coordinates[0] * coordinates[1] * coordinates[2]\n",
    "print(res)"
   ]
  },
  {
   "cell_type": "code",
   "execution_count": 3,
   "id": "industrial-trash",
   "metadata": {},
   "outputs": [
    {
     "name": "stdout",
     "output_type": "stream",
     "text": [
      "6\n"
     ]
    }
   ],
   "source": [
    "coordinates = (1,2,3)\n",
    "x = coordinates[0]\n",
    "y = coordinates[1] \n",
    "z = coordinates[2]\n",
    "print(x*y*z)"
   ]
  },
  {
   "cell_type": "code",
   "execution_count": 5,
   "id": "adopted-instruction",
   "metadata": {},
   "outputs": [
    {
     "name": "stdout",
     "output_type": "stream",
     "text": [
      "1\n",
      "6\n"
     ]
    }
   ],
   "source": [
    "coordinates = (1,2,3)\n",
    "x,y,z = coordinates # unpack tuple into 3 variables\n",
    "\n",
    "print(x)\n",
    "print(x*y*z)"
   ]
  },
  {
   "cell_type": "code",
   "execution_count": 6,
   "id": "alive-honey",
   "metadata": {},
   "outputs": [
    {
     "name": "stdout",
     "output_type": "stream",
     "text": [
      "1\n",
      "6\n"
     ]
    }
   ],
   "source": [
    "coordinates = [1,2,3]\n",
    "x,y,z = coordinates # unpack list into 3 variables\n",
    "\n",
    "print(x)\n",
    "print(x*y*z)"
   ]
  },
  {
   "cell_type": "code",
   "execution_count": null,
   "id": "remarkable-finder",
   "metadata": {},
   "outputs": [],
   "source": []
  }
 ],
 "metadata": {
  "kernelspec": {
   "display_name": "Python 3",
   "language": "python",
   "name": "python3"
  },
  "language_info": {
   "codemirror_mode": {
    "name": "ipython",
    "version": 3
   },
   "file_extension": ".py",
   "mimetype": "text/x-python",
   "name": "python",
   "nbconvert_exporter": "python",
   "pygments_lexer": "ipython3",
   "version": "3.6.12"
  }
 },
 "nbformat": 4,
 "nbformat_minor": 5
}
