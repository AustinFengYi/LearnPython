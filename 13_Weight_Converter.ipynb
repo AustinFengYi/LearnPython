{
 "cells": [
  {
   "cell_type": "code",
   "execution_count": 3,
   "id": "failing-binary",
   "metadata": {},
   "outputs": [
    {
     "name": "stdout",
     "output_type": "stream",
     "text": [
      "Weight: 80\n",
      "(L)bs or (K)g: k\n",
      "You are 177.0 lbs.\n"
     ]
    }
   ],
   "source": [
    "weight = int(input('Weight: '))\n",
    "unit = input('(L)bs or (K)g: ')\n",
    "\n",
    "if unit.upper() == \"L\":\n",
    "    converted = weight * 0.45\n",
    "    print(f\"You are {converted} kilos.\")\n",
    "elif unit.upper() == \"K\":\n",
    "    converted = weight // 0.45\n",
    "    print(f\"You are {converted} lbs.\")\n",
    "else:\n",
    "    print(\"Don't mess up\")"
   ]
  },
  {
   "cell_type": "code",
   "execution_count": 4,
   "id": "stupid-fairy",
   "metadata": {},
   "outputs": [
    {
     "name": "stdout",
     "output_type": "stream",
     "text": [
      "Weight: 70\n",
      "(L)bs or (K)g: r\n",
      "Don't mess up\n"
     ]
    }
   ],
   "source": [
    "weight = int(input('Weight: '))\n",
    "unit = input('(L)bs or (K)g: ')\n",
    "\n",
    "if unit.upper() == \"L\":\n",
    "    converted = weight * 0.45\n",
    "    print(f\"You are {converted} kilos.\")\n",
    "elif unit.upper() == \"K\":\n",
    "    converted = weight // 0.45\n",
    "    print(f\"You are {converted} lbs.\")\n",
    "else:\n",
    "    print(\"Don't mess up\")"
   ]
  },
  {
   "cell_type": "code",
   "execution_count": null,
   "id": "pressed-valve",
   "metadata": {},
   "outputs": [],
   "source": [
    "# 5 // 2 = 2.5 = 2\n",
    "# -5 // 2 = -2.5 = -3"
   ]
  }
 ],
 "metadata": {
  "kernelspec": {
   "display_name": "Python 3",
   "language": "python",
   "name": "python3"
  },
  "language_info": {
   "codemirror_mode": {
    "name": "ipython",
    "version": 3
   },
   "file_extension": ".py",
   "mimetype": "text/x-python",
   "name": "python",
   "nbconvert_exporter": "python",
   "pygments_lexer": "ipython3",
   "version": "3.6.12"
  }
 },
 "nbformat": 4,
 "nbformat_minor": 5
}
