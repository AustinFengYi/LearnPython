{
 "cells": [
  {
   "cell_type": "code",
   "execution_count": 1,
   "id": "empty-search",
   "metadata": {},
   "outputs": [
    {
     "name": "stdout",
     "output_type": "stream",
     "text": [
      "What is your name? Austin\n",
      "Hi, Austin\n"
     ]
    }
   ],
   "source": [
    "name = input('What is your name? ')\n",
    "print('Hi, ' + name)"
   ]
  },
  {
   "cell_type": "code",
   "execution_count": 3,
   "id": "funded-harvard",
   "metadata": {},
   "outputs": [
    {
     "name": "stdout",
     "output_type": "stream",
     "text": [
      "What is your name? Austin\n",
      "What is your favorite color? Blue\n",
      "Austin likes Blue\n"
     ]
    }
   ],
   "source": [
    "name = input('What is your name? ')\n",
    "color = input('What is your favorite color? ')\n",
    "print(name + ' likes ' + color)"
   ]
  },
  {
   "cell_type": "code",
   "execution_count": null,
   "id": "reliable-documentation",
   "metadata": {},
   "outputs": [],
   "source": []
  }
 ],
 "metadata": {
  "kernelspec": {
   "display_name": "Python 3",
   "language": "python",
   "name": "python3"
  },
  "language_info": {
   "codemirror_mode": {
    "name": "ipython",
    "version": 3
   },
   "file_extension": ".py",
   "mimetype": "text/x-python",
   "name": "python",
   "nbconvert_exporter": "python",
   "pygments_lexer": "ipython3",
   "version": "3.6.12"
  }
 },
 "nbformat": 4,
 "nbformat_minor": 5
}
