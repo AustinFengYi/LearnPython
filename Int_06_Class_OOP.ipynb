{
 "cells": [
  {
   "cell_type": "code",
   "execution_count": 1,
   "id": "documented-drilling",
   "metadata": {},
   "outputs": [],
   "source": [
    "class Robot:\n",
    "    def __init__(self, name, color, weight):\n",
    "        self.name = name\n",
    "        self.color = color\n",
    "        self.weight = weight\n",
    "        \n",
    "    def introduce_self(self):\n",
    "        print(\"My name is {}\".format(self.name)) # This in Java"
   ]
  },
  {
   "cell_type": "code",
   "execution_count": 10,
   "id": "bacterial-favorite",
   "metadata": {},
   "outputs": [],
   "source": [
    "r1 = Robot(\"Jason\", \"blue\", \"30\")\n",
    "r2 = Robot(\"Tommy\", \"red\", \"40\")"
   ]
  },
  {
   "cell_type": "code",
   "execution_count": 11,
   "id": "killing-campus",
   "metadata": {},
   "outputs": [
    {
     "name": "stdout",
     "output_type": "stream",
     "text": [
      "My name is Jason\n",
      "My name is Tommy\n",
      "Jason\n"
     ]
    }
   ],
   "source": [
    "r1.introduce_self()\n",
    "r2.introduce_self()\n",
    "\n",
    "print(r1.name)"
   ]
  },
  {
   "cell_type": "code",
   "execution_count": 6,
   "id": "decent-louisiana",
   "metadata": {},
   "outputs": [],
   "source": [
    "class Person:\n",
    "    def __init__(self, name, personality, is_sitting):\n",
    "        self.name = name\n",
    "        self.personality = personality\n",
    "        self.is_sitting = is_sitting\n",
    "    \n",
    "    def sit_down(self):\n",
    "        self.is_sitting = True\n",
    "        \n",
    "    def stand_up(self):\n",
    "        self.is_sitting = False"
   ]
  },
  {
   "cell_type": "code",
   "execution_count": 7,
   "id": "wired-warner",
   "metadata": {},
   "outputs": [],
   "source": [
    "p1 = Person(\"Alice\",\"aggresive\", False)\n",
    "p2 = Person(\"Jimmy\",\"talkative\", True)"
   ]
  },
  {
   "cell_type": "code",
   "execution_count": 12,
   "id": "blocked-calibration",
   "metadata": {},
   "outputs": [
    {
     "name": "stdout",
     "output_type": "stream",
     "text": [
      "My name is Tommy\n"
     ]
    }
   ],
   "source": [
    "# p1 owns r2\n",
    "p1.robot_owned = r2\n",
    "p2.robot_owned = r1\n",
    "\n",
    "p1.robot_owned.introduce_self()"
   ]
  },
  {
   "cell_type": "code",
   "execution_count": null,
   "id": "round-ordering",
   "metadata": {},
   "outputs": [],
   "source": []
  }
 ],
 "metadata": {
  "kernelspec": {
   "display_name": "Python 3",
   "language": "python",
   "name": "python3"
  },
  "language_info": {
   "codemirror_mode": {
    "name": "ipython",
    "version": 3
   },
   "file_extension": ".py",
   "mimetype": "text/x-python",
   "name": "python",
   "nbconvert_exporter": "python",
   "pygments_lexer": "ipython3",
   "version": "3.6.12"
  }
 },
 "nbformat": 4,
 "nbformat_minor": 5
}
