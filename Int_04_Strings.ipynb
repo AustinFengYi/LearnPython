{
 "cells": [
  {
   "cell_type": "markdown",
   "id": "anonymous-validity",
   "metadata": {},
   "source": [
    "### Strings: immutable, ordered, text representation"
   ]
  },
  {
   "cell_type": "code",
   "execution_count": 7,
   "id": "racial-seeker",
   "metadata": {},
   "outputs": [
    {
     "name": "stdout",
     "output_type": "stream",
     "text": [
      "Hello World\n"
     ]
    }
   ],
   "source": [
    "my_string = \"Hello World\"\n",
    "print(my_string)"
   ]
  },
  {
   "cell_type": "code",
   "execution_count": 2,
   "id": "proof-sister",
   "metadata": {},
   "outputs": [
    {
     "name": "stdout",
     "output_type": "stream",
     "text": [
      "I'm a atudent\n"
     ]
    }
   ],
   "source": [
    "my_string = \"I'm a atudent\"\n",
    "print(my_string)"
   ]
  },
  {
   "cell_type": "code",
   "execution_count": 4,
   "id": "smaller-round",
   "metadata": {},
   "outputs": [
    {
     "name": "stdout",
     "output_type": "stream",
     "text": [
      "Hello \n",
      "World\n"
     ]
    }
   ],
   "source": [
    "my_string = \"\"\"Hello \n",
    "World\"\"\"\n",
    "# multiple line\n",
    "print(my_string)"
   ]
  },
  {
   "cell_type": "code",
   "execution_count": 5,
   "id": "representative-croatia",
   "metadata": {},
   "outputs": [
    {
     "name": "stdout",
     "output_type": "stream",
     "text": [
      "Hello World\n"
     ]
    }
   ],
   "source": [
    "my_string = \"\"\"Hello \\\n",
    "World\"\"\"\n",
    "\n",
    "print(my_string)"
   ]
  },
  {
   "cell_type": "code",
   "execution_count": 6,
   "id": "compound-secretariat",
   "metadata": {},
   "outputs": [
    {
     "name": "stdout",
     "output_type": "stream",
     "text": [
      "H\n"
     ]
    }
   ],
   "source": [
    "my_stirng = \"Hello WOrld\"\n",
    "char = my_string[0]\n",
    "\n",
    "print(char)"
   ]
  },
  {
   "cell_type": "code",
   "execution_count": 9,
   "id": "characteristic-guidance",
   "metadata": {},
   "outputs": [
    {
     "ename": "TypeError",
     "evalue": "'str' object does not support item assignment",
     "output_type": "error",
     "traceback": [
      "\u001b[0;31m---------------------------------------------------------------------------\u001b[0m",
      "\u001b[0;31mTypeError\u001b[0m                                 Traceback (most recent call last)",
      "\u001b[0;32m<ipython-input-9-1ad503ae823b>\u001b[0m in \u001b[0;36m<module>\u001b[0;34m\u001b[0m\n\u001b[1;32m      1\u001b[0m \u001b[0mmy_stirng\u001b[0m \u001b[0;34m=\u001b[0m \u001b[0;34m\"Hello WOrld\"\u001b[0m\u001b[0;34m\u001b[0m\u001b[0;34m\u001b[0m\u001b[0m\n\u001b[0;32m----> 2\u001b[0;31m \u001b[0mmy_string\u001b[0m\u001b[0;34m[\u001b[0m\u001b[0;36m0\u001b[0m\u001b[0;34m]\u001b[0m \u001b[0;34m=\u001b[0m \u001b[0;34m\"E\"\u001b[0m\u001b[0;34m\u001b[0m\u001b[0;34m\u001b[0m\u001b[0m\n\u001b[0m\u001b[1;32m      3\u001b[0m \u001b[0;34m\u001b[0m\u001b[0m\n\u001b[1;32m      4\u001b[0m \u001b[0mprint\u001b[0m\u001b[0;34m(\u001b[0m\u001b[0mmy_stirng\u001b[0m\u001b[0;34m[\u001b[0m\u001b[0;36m0\u001b[0m\u001b[0;34m]\u001b[0m\u001b[0;34m)\u001b[0m\u001b[0;34m\u001b[0m\u001b[0;34m\u001b[0m\u001b[0m\n",
      "\u001b[0;31mTypeError\u001b[0m: 'str' object does not support item assignment"
     ]
    }
   ],
   "source": [
    "my_stirng = \"Hello WOrld\"\n",
    "my_string[0] = \"E\"\n",
    "\n",
    "print(my_stirng[0])"
   ]
  },
  {
   "cell_type": "code",
   "execution_count": 10,
   "id": "hybrid-condition",
   "metadata": {},
   "outputs": [
    {
     "name": "stdout",
     "output_type": "stream",
     "text": [
      "ello\n"
     ]
    }
   ],
   "source": [
    "my_stirng = \"Hello WOrld\"\n",
    "substring = my_string[1:5] #index 5 is excluded\n",
    "\n",
    "print(substring)"
   ]
  },
  {
   "cell_type": "code",
   "execution_count": 13,
   "id": "advised-logistics",
   "metadata": {},
   "outputs": [
    {
     "name": "stdout",
     "output_type": "stream",
     "text": [
      "HloWrd\n"
     ]
    }
   ],
   "source": [
    "my_stirng = \"Hello WOrld\"\n",
    "substring = my_string[::2] \n",
    "\n",
    "print(substring)"
   ]
  },
  {
   "cell_type": "code",
   "execution_count": 14,
   "id": "remarkable-firmware",
   "metadata": {},
   "outputs": [
    {
     "name": "stdout",
     "output_type": "stream",
     "text": [
      "dlroW olleH\n"
     ]
    }
   ],
   "source": [
    "my_stirng = \"Hello WOrld\"\n",
    "substring = my_string[::-1] \n",
    "\n",
    "print(substring)"
   ]
  },
  {
   "cell_type": "code",
   "execution_count": 22,
   "id": "architectural-carolina",
   "metadata": {},
   "outputs": [
    {
     "name": "stdout",
     "output_type": "stream",
     "text": [
      "Hello Tom\n"
     ]
    }
   ],
   "source": [
    "my_string = \"Hello\"\n",
    "name = \"Tom\"\n",
    "\n",
    "sentence = my_string + \" \" + name\n",
    "\n",
    "print(sentence)"
   ]
  },
  {
   "cell_type": "code",
   "execution_count": 23,
   "id": "comprehensive-ambassador",
   "metadata": {},
   "outputs": [
    {
     "name": "stdout",
     "output_type": "stream",
     "text": [
      "H\n",
      "e\n",
      "l\n",
      "l\n",
      "o\n"
     ]
    }
   ],
   "source": [
    "my_string = \"Hello\"\n",
    "for i in my_string:\n",
    "    print(i)\n",
    "    "
   ]
  },
  {
   "cell_type": "code",
   "execution_count": 42,
   "id": "apart-uganda",
   "metadata": {},
   "outputs": [
    {
     "name": "stdout",
     "output_type": "stream",
     "text": [
      "     Hello World.  \n",
      "Hello World.\n"
     ]
    }
   ],
   "source": [
    "my_string = '     Hello World.  '\n",
    "print(my_string)\n",
    "\n",
    "my_string = my_string.strip() # get rid of white space\n",
    "# since string is immutable, so we have to assign it again to our original one, and then we have the new string without white space.\n",
    "print(my_string)\n",
    "\n"
   ]
  },
  {
   "cell_type": "code",
   "execution_count": 31,
   "id": "balanced-cycling",
   "metadata": {},
   "outputs": [
    {
     "name": "stdout",
     "output_type": "stream",
     "text": [
      "hello world\n"
     ]
    }
   ],
   "source": [
    "my_string = \"Hello World\"\n",
    "print(my_string.lower())"
   ]
  },
  {
   "cell_type": "code",
   "execution_count": 34,
   "id": "paperback-nursing",
   "metadata": {},
   "outputs": [
    {
     "name": "stdout",
     "output_type": "stream",
     "text": [
      "False\n",
      "True\n"
     ]
    }
   ],
   "source": [
    "my_string = \"Hello World\"\n",
    "print(my_string.startswith(\"World\"))\n",
    "print(my_string.endswith(\"World\"))"
   ]
  },
  {
   "cell_type": "code",
   "execution_count": 38,
   "id": "thirty-portal",
   "metadata": {},
   "outputs": [
    {
     "name": "stdout",
     "output_type": "stream",
     "text": [
      "4\n",
      "3\n",
      "-1\n",
      "2\n"
     ]
    }
   ],
   "source": [
    "my_string = \"Hello World\"\n",
    "print(my_string.find('o'))\n",
    "print(my_string.find('lo'))\n",
    "print(my_string.find('pp'))\n",
    "\n",
    "print(my_string.count('o'))"
   ]
  },
  {
   "cell_type": "code",
   "execution_count": 40,
   "id": "silent-update",
   "metadata": {},
   "outputs": [
    {
     "name": "stdout",
     "output_type": "stream",
     "text": [
      "Hello Universe\n",
      "Hello World\n"
     ]
    }
   ],
   "source": [
    "my_string = \"Hello World\"\n",
    "print(my_string.replace(\"World\", \"Universe\"))\n",
    "\n",
    "print(my_string)"
   ]
  },
  {
   "cell_type": "code",
   "execution_count": 43,
   "id": "aware-registration",
   "metadata": {},
   "outputs": [
    {
     "name": "stdout",
     "output_type": "stream",
     "text": [
      "['how', 'are', 'you', 'doing']\n"
     ]
    }
   ],
   "source": [
    "my_string = \"how are you doing\"\n",
    "my_list = my_string.split() # = my_string.split(\" \") defalut is space\n",
    "\n",
    "print(my_list)"
   ]
  },
  {
   "cell_type": "code",
   "execution_count": 45,
   "id": "joined-newfoundland",
   "metadata": {},
   "outputs": [
    {
     "name": "stdout",
     "output_type": "stream",
     "text": [
      "['how,are,you,doing']\n",
      "['how', 'are', 'you', 'doing']\n"
     ]
    }
   ],
   "source": [
    "my_string = \"how,are,you,doing\"\n",
    "my_list = my_string.split() # = my_string.split(\" \") defalut is space\n",
    "print(my_list)\n",
    "\n",
    "my_list_2 = my_string.split(\",\") # = my_string.split(\" \") defalut is space\n",
    "print(my_list_2)"
   ]
  },
  {
   "cell_type": "code",
   "execution_count": 51,
   "id": "differential-extreme",
   "metadata": {},
   "outputs": [
    {
     "name": "stdout",
     "output_type": "stream",
     "text": [
      "howareyoudoing\n",
      "how are you doing\n"
     ]
    }
   ],
   "source": [
    "new_string = ''.join(my_list_2)\n",
    "print(new_string)\n",
    "\n",
    "new_string_2 = ' '.join(my_list_2) # join elements of list back to string\n",
    "print(new_string_2)"
   ]
  },
  {
   "cell_type": "code",
   "execution_count": 53,
   "id": "passing-little",
   "metadata": {},
   "outputs": [
    {
     "name": "stdout",
     "output_type": "stream",
     "text": [
      "aaaaaa\n",
      "aaaaaa\n"
     ]
    }
   ],
   "source": [
    "my_list = ['a']*6\n",
    "\n",
    "# bad\n",
    "my_string = ''\n",
    "for i in my_list:\n",
    "    my_string += i\n",
    "print(my_string)\n",
    "\n",
    "# good\n",
    "my_string = ''.join(my_list) #['a','a','a',...]\n",
    "print(my_string)"
   ]
  },
  {
   "cell_type": "code",
   "execution_count": 54,
   "id": "posted-people",
   "metadata": {},
   "outputs": [
    {
     "name": "stdout",
     "output_type": "stream",
     "text": [
      "2.0748476390726864\n",
      "0.08327286900021136\n"
     ]
    }
   ],
   "source": [
    "from timeit import default_timer as timer \n",
    "my_list = ['a']*10000000\n",
    "\n",
    "# bad\n",
    "start = timer()\n",
    "my_string = ''\n",
    "for i in my_list:\n",
    "    my_string += i\n",
    "stop = timer()\n",
    "\n",
    "print(stop-start)\n",
    "\n",
    "# good\n",
    "start = timer()\n",
    "my_string = ''.join(my_list) #['a','a','a',...]\n",
    "stop = timer()\n",
    "\n",
    "print(stop-start)"
   ]
  },
  {
   "cell_type": "code",
   "execution_count": 55,
   "id": "revolutionary-cowboy",
   "metadata": {},
   "outputs": [
    {
     "name": "stdout",
     "output_type": "stream",
     "text": [
      "the variable is Tom\n"
     ]
    }
   ],
   "source": [
    "# string formating\n",
    "# %, .format(), f-strings\n",
    "\n",
    "var = \"Tom\"\n",
    "my_string = \"the variable is %s\" % var\n",
    "print(my_string)"
   ]
  },
  {
   "cell_type": "code",
   "execution_count": 56,
   "id": "arranged-miracle",
   "metadata": {},
   "outputs": [
    {
     "name": "stdout",
     "output_type": "stream",
     "text": [
      "the variable is 3\n"
     ]
    }
   ],
   "source": [
    "# string formating\n",
    "# %, .format(), f-strings\n",
    "\n",
    "var = 3\n",
    "my_string = \"the variable is %d\" % var\n",
    "print(my_string)"
   ]
  },
  {
   "cell_type": "code",
   "execution_count": 61,
   "id": "liberal-resolution",
   "metadata": {},
   "outputs": [
    {
     "name": "stdout",
     "output_type": "stream",
     "text": [
      "the variable is 3.123457\n",
      "the variable is 3.12\n",
      " \n",
      "the variable is 3.1234567\n",
      "the variable is 3.12\n"
     ]
    }
   ],
   "source": [
    "# string formating\n",
    "# %, .format(), f-strings\n",
    "\n",
    "var = 3.1234567\n",
    "my_string = \"the variable is %f\" % var\n",
    "print(my_string)\n",
    "\n",
    "var2 = 3.1234567\n",
    "my_string = \"the variable is %.2f\" % var2\n",
    "print(my_string)\n",
    "\n",
    "print(\" \")\n",
    "\n",
    "var2 = 3.1234567\n",
    "my_string = \"the variable is {}\".format(var2)\n",
    "print(my_string)\n",
    "\n",
    "var2 = 3.1234567\n",
    "my_string = \"the variable is {:.2f}\".format(var2)\n",
    "print(my_string)"
   ]
  },
  {
   "cell_type": "code",
   "execution_count": 63,
   "id": "piano-treasure",
   "metadata": {},
   "outputs": [
    {
     "name": "stdout",
     "output_type": "stream",
     "text": [
      "the variable here is 2.123 and 4\n"
     ]
    }
   ],
   "source": [
    "var = 2.12345678\n",
    "var2 = 4\n",
    "\n",
    "my_string = \"the variable here is {:.3f} and {}\".format(var, var2)\n",
    "print(my_string)"
   ]
  },
  {
   "cell_type": "code",
   "execution_count": 65,
   "id": "employed-statistics",
   "metadata": {},
   "outputs": [
    {
     "name": "stdout",
     "output_type": "stream",
     "text": [
      "the variable here is 4.24691356 and 4\n"
     ]
    }
   ],
   "source": [
    "var = 2.12345678\n",
    "var2 = 4\n",
    "\n",
    "my_string = f\"the variable here is {var*2} and {var2}\"\n",
    "print(my_string)"
   ]
  },
  {
   "cell_type": "code",
   "execution_count": null,
   "id": "numeric-little",
   "metadata": {},
   "outputs": [],
   "source": []
  }
 ],
 "metadata": {
  "kernelspec": {
   "display_name": "Python 3",
   "language": "python",
   "name": "python3"
  },
  "language_info": {
   "codemirror_mode": {
    "name": "ipython",
    "version": 3
   },
   "file_extension": ".py",
   "mimetype": "text/x-python",
   "name": "python",
   "nbconvert_exporter": "python",
   "pygments_lexer": "ipython3",
   "version": "3.6.12"
  }
 },
 "nbformat": 4,
 "nbformat_minor": 5
}
