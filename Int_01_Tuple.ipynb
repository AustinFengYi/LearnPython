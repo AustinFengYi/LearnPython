{
 "cells": [
  {
   "cell_type": "markdown",
   "id": "molecular-lecture",
   "metadata": {},
   "source": [
    "Tuple 是不可變 list。 一旦建立了一個 tuple 就不能以任何方式改變它\n",
    "<br>\n",
    "Tuple is immutable\n",
    "\n",
    "### 用 Tuple 的好處\n",
    "\n",
    "Tuple 比 list 操作速度快。如果您定義了一個值的常量集，並且唯一要用它做的是不斷地遍歷它，請使用 tuple 代替 list。\n",
    "如果對不需要修改的資料進行 “防寫”，可以使程式碼更安全。使用 tuple 而不是 list 如同擁有一個隱含的 assert 語句，說明這一資料是常量。如果必須要改變這些值，則需要執行 tuple 到 list 的轉換。\n",
    "\n",
    "### Tuple 與 list 的轉換\n",
    "\n",
    "Tuple 可以轉換成 list，反之亦然。內建的 tuple 函式接收一個 list，並返回一個有著相同元素的 tuple。而 list 函式接收一個 tuple 返回一個 list。從效果上看，tuple 凍結一個 list，而 list 解凍一個 tuple。"
   ]
  },
  {
   "cell_type": "code",
   "execution_count": 3,
   "id": "amateur-underground",
   "metadata": {},
   "outputs": [
    {
     "name": "stdout",
     "output_type": "stream",
     "text": [
      "('max', 28, 'boston')\n"
     ]
    }
   ],
   "source": [
    "mytuple = (\"max\", 28, \"boston\")\n",
    "print(mytuple)"
   ]
  },
  {
   "cell_type": "code",
   "execution_count": 4,
   "id": "alone-despite",
   "metadata": {},
   "outputs": [
    {
     "name": "stdout",
     "output_type": "stream",
     "text": [
      "<class 'str'>\n",
      "<class 'tuple'>\n"
     ]
    }
   ],
   "source": [
    "mytuple = (\"max\")\n",
    "print(type(mytuple))\n",
    "\n",
    "# tuple, put comma in the end\n",
    "mytuple = (\"max\",)\n",
    "print(type(mytuple))"
   ]
  },
  {
   "cell_type": "code",
   "execution_count": 12,
   "id": "opened-charity",
   "metadata": {},
   "outputs": [
    {
     "name": "stdout",
     "output_type": "stream",
     "text": [
      "('Max', 28, 'boston')\n",
      "28\n",
      "boston\n"
     ]
    }
   ],
   "source": [
    "# transfer from list to tuple\n",
    "mytuple = tuple([\"Max\", 28, \"boston\"])\n",
    "print(mytuple)\n",
    "\n",
    "item = mytuple[1]\n",
    "print(item)\n",
    "\n",
    "item = mytuple[-1]\n",
    "print(item)"
   ]
  },
  {
   "cell_type": "code",
   "execution_count": 13,
   "id": "romance-technical",
   "metadata": {},
   "outputs": [
    {
     "name": "stdout",
     "output_type": "stream",
     "text": [
      "max\n",
      "28\n",
      "boston\n"
     ]
    }
   ],
   "source": [
    "mytuple = (\"max\", 28, \"boston\")\n",
    "for i in mytuple:\n",
    "    print(i)"
   ]
  },
  {
   "cell_type": "code",
   "execution_count": 16,
   "id": "geological-diagnosis",
   "metadata": {},
   "outputs": [
    {
     "name": "stdout",
     "output_type": "stream",
     "text": [
      "5\n",
      "2\n",
      "1\n"
     ]
    }
   ],
   "source": [
    "mytuple = (\"a\", \"p\", \"p\", \"l\", \"e\")\n",
    "print(len(mytuple))\n",
    "print(mytuple.count(\"p\"))\n",
    "print(mytuple.index(\"p\"))"
   ]
  },
  {
   "cell_type": "code",
   "execution_count": 17,
   "id": "challenging-authentication",
   "metadata": {},
   "outputs": [
    {
     "name": "stdout",
     "output_type": "stream",
     "text": [
      "['max', 28, 'boston']\n"
     ]
    }
   ],
   "source": [
    "mytuple = (\"max\", 28, \"boston\")\n",
    "mylist = list(mytuple)\n",
    "\n",
    "print(mylist)"
   ]
  },
  {
   "cell_type": "code",
   "execution_count": 18,
   "id": "gross-cleanup",
   "metadata": {},
   "outputs": [
    {
     "name": "stdout",
     "output_type": "stream",
     "text": [
      "Max\n",
      "28\n",
      "boston\n"
     ]
    }
   ],
   "source": [
    "my_tuple = (\"Max\", 28, \"boston\")\n",
    "\n",
    "name, age, city = my_tuple\n",
    "\n",
    "print(name)\n",
    "print(age)\n",
    "print(city)"
   ]
  },
  {
   "cell_type": "code",
   "execution_count": 23,
   "id": "endangered-barcelona",
   "metadata": {},
   "outputs": [
    {
     "name": "stdout",
     "output_type": "stream",
     "text": [
      "0\n",
      "4\n",
      "[1, 2, 3]\n"
     ]
    }
   ],
   "source": [
    "my_tuple = (0,1,2,3,4)\n",
    "\n",
    "i1,*i2,i3 = my_tuple\n",
    "\n",
    "print(i1)\n",
    "print(i3)\n",
    "print(i2)"
   ]
  },
  {
   "cell_type": "code",
   "execution_count": 24,
   "id": "statewide-establishment",
   "metadata": {},
   "outputs": [
    {
     "name": "stdout",
     "output_type": "stream",
     "text": [
      "104 bytes\n",
      "88 bytes\n"
     ]
    }
   ],
   "source": [
    "import sys\n",
    "my_list = [\"0\",\"1\",2, \"hello\", True]\n",
    "my_tuple = (\"0\",\"1\",2, \"hello\", True)\n",
    "\n",
    "print(sys.getsizeof(my_list),\"bytes\")\n",
    "print(sys.getsizeof(my_tuple),\"bytes\")"
   ]
  },
  {
   "cell_type": "code",
   "execution_count": 26,
   "id": "egyptian-pepper",
   "metadata": {},
   "outputs": [
    {
     "name": "stdout",
     "output_type": "stream",
     "text": [
      "0.6457424720283598\n",
      "0.12214097706601024\n"
     ]
    }
   ],
   "source": [
    "# stmt ->  which is the statement you want to measure\n",
    "import timeit\n",
    "my_list = [\"0\",\"1\",2, \"hello\", True]\n",
    "my_tuple = (\"0\",\"1\",2, \"hello\", True)\n",
    "\n",
    "print(timeit.timeit(stmt=\"[0,1,2,3,4,5]\", number = 10000000))\n",
    "print(timeit.timeit(stmt=\"(0,1,2,3,4,5)\", number = 10000000))"
   ]
  },
  {
   "cell_type": "code",
   "execution_count": null,
   "id": "excess-lesson",
   "metadata": {},
   "outputs": [],
   "source": []
  }
 ],
 "metadata": {
  "kernelspec": {
   "display_name": "Python 3",
   "language": "python",
   "name": "python3"
  },
  "language_info": {
   "codemirror_mode": {
    "name": "ipython",
    "version": 3
   },
   "file_extension": ".py",
   "mimetype": "text/x-python",
   "name": "python",
   "nbconvert_exporter": "python",
   "pygments_lexer": "ipython3",
   "version": "3.6.12"
  }
 },
 "nbformat": 4,
 "nbformat_minor": 5
}
