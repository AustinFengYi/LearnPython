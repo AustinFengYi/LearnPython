{
 "cells": [
  {
   "cell_type": "code",
   "execution_count": 3,
   "id": "patent-daily",
   "metadata": {},
   "outputs": [
    {
     "name": "stdout",
     "output_type": "stream",
     "text": [
      "10\n"
     ]
    }
   ],
   "source": [
    "price = 10\n",
    "print(price)"
   ]
  },
  {
   "cell_type": "code",
   "execution_count": 4,
   "id": "naked-manual",
   "metadata": {},
   "outputs": [
    {
     "name": "stdout",
     "output_type": "stream",
     "text": [
      "20\n"
     ]
    }
   ],
   "source": [
    "price = 10\n",
    "price = 20\n",
    "print(price)"
   ]
  },
  {
   "cell_type": "code",
   "execution_count": null,
   "id": "indie-addition",
   "metadata": {},
   "outputs": [],
   "source": [
    "price = 10 # integer\n",
    "rating = 4.9 # float \n",
    "namw = 'Austin' # string\n",
    "is_published = True # boolean"
   ]
  },
  {
   "cell_type": "code",
   "execution_count": null,
   "id": "buried-universe",
   "metadata": {},
   "outputs": [],
   "source": [
    "Full_name = 'John'\n",
    "Age = 20\n",
    "is_new = True"
   ]
  }
 ],
 "metadata": {
  "kernelspec": {
   "display_name": "Python 3",
   "language": "python",
   "name": "python3"
  },
  "language_info": {
   "codemirror_mode": {
    "name": "ipython",
    "version": 3
   },
   "file_extension": ".py",
   "mimetype": "text/x-python",
   "name": "python",
   "nbconvert_exporter": "python",
   "pygments_lexer": "ipython3",
   "version": "3.6.12"
  }
 },
 "nbformat": 4,
 "nbformat_minor": 5
}
