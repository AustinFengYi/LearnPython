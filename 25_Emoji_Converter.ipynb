{
 "cells": [
  {
   "cell_type": "code",
   "execution_count": 1,
   "id": "secret-fabric",
   "metadata": {},
   "outputs": [
    {
     "name": "stdout",
     "output_type": "stream",
     "text": [
      ">Good morning sunshine\n",
      "['Good', 'morning', 'sunshine']\n"
     ]
    }
   ],
   "source": [
    "message = input(\">\")\n",
    "words = message.split(' ')\n",
    "print(words)"
   ]
  },
  {
   "cell_type": "code",
   "execution_count": 3,
   "id": "mechanical-spokesman",
   "metadata": {},
   "outputs": [
    {
     "name": "stdout",
     "output_type": "stream",
     "text": [
      ">Good morning :)\n",
      "Good morning 😄 \n"
     ]
    }
   ],
   "source": [
    "message = input(\">\")\n",
    "words = message.split(' ')\n",
    "emojis = {\n",
    "    \":)\": \"😄\", # press ctl + cmd + space\n",
    "    \":(\": \"😞\"\n",
    "}\n",
    "\n",
    "output = \"\"\n",
    "for word in words:\n",
    "    output += emojis.get(word,word) + \" \"\n",
    "\n",
    "print(output)"
   ]
  },
  {
   "cell_type": "code",
   "execution_count": 6,
   "id": "modern-mirror",
   "metadata": {},
   "outputs": [
    {
     "name": "stdout",
     "output_type": "stream",
     "text": [
      ">I am sad :(\n",
      "I am sad 😞 \n"
     ]
    }
   ],
   "source": [
    "message = input(\">\")\n",
    "words = message.split(' ')\n",
    "emojis = {\n",
    "    \":)\": \"😄\", # press ctl + cmd + space\n",
    "    \":(\": \"😞\"\n",
    "}\n",
    "\n",
    "output = \"\"\n",
    "for word in words:\n",
    "    output += emojis.get(word,word) + \" \"\n",
    "\n",
    "print(output)"
   ]
  },
  {
   "cell_type": "code",
   "execution_count": null,
   "id": "wrong-batch",
   "metadata": {},
   "outputs": [],
   "source": []
  }
 ],
 "metadata": {
  "kernelspec": {
   "display_name": "Python 3",
   "language": "python",
   "name": "python3"
  },
  "language_info": {
   "codemirror_mode": {
    "name": "ipython",
    "version": 3
   },
   "file_extension": ".py",
   "mimetype": "text/x-python",
   "name": "python",
   "nbconvert_exporter": "python",
   "pygments_lexer": "ipython3",
   "version": "3.6.12"
  }
 },
 "nbformat": 4,
 "nbformat_minor": 5
}
