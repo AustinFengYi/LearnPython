{
 "cells": [
  {
   "cell_type": "code",
   "execution_count": 2,
   "id": "attractive-humanity",
   "metadata": {},
   "outputs": [
    {
     "name": "stdout",
     "output_type": "stream",
     "text": [
      "20\n"
     ]
    }
   ],
   "source": [
    "course = 'Python for beginners'\n",
    "\n",
    "print(len(course))"
   ]
  },
  {
   "cell_type": "code",
   "execution_count": 3,
   "id": "superb-breed",
   "metadata": {},
   "outputs": [
    {
     "name": "stdout",
     "output_type": "stream",
     "text": [
      "PYTHON FOR BEGINNERS\n"
     ]
    }
   ],
   "source": [
    "course = 'Python for beginners'\n",
    "print(course.upper())"
   ]
  },
  {
   "cell_type": "code",
   "execution_count": 4,
   "id": "protective-calcium",
   "metadata": {},
   "outputs": [
    {
     "name": "stdout",
     "output_type": "stream",
     "text": [
      "python for beginners\n"
     ]
    }
   ],
   "source": [
    "course = 'Python for beginners'\n",
    "print(course.lower())"
   ]
  },
  {
   "cell_type": "code",
   "execution_count": 5,
   "id": "handed-alloy",
   "metadata": {},
   "outputs": [
    {
     "name": "stdout",
     "output_type": "stream",
     "text": [
      "0\n"
     ]
    }
   ],
   "source": [
    "course = 'Python for beginners'\n",
    "print(course.find('P'))"
   ]
  },
  {
   "cell_type": "code",
   "execution_count": 6,
   "id": "welcome-infrared",
   "metadata": {},
   "outputs": [
    {
     "name": "stdout",
     "output_type": "stream",
     "text": [
      "4\n"
     ]
    }
   ],
   "source": [
    "course = 'Python for beginners'\n",
    "print(course.find('o'))"
   ]
  },
  {
   "cell_type": "code",
   "execution_count": 8,
   "id": "legislative-european",
   "metadata": {},
   "outputs": [
    {
     "name": "stdout",
     "output_type": "stream",
     "text": [
      "11\n"
     ]
    }
   ],
   "source": [
    "course = 'Python for beginners'\n",
    "print(course.find('beginners'))"
   ]
  },
  {
   "cell_type": "code",
   "execution_count": 9,
   "id": "interpreted-porter",
   "metadata": {},
   "outputs": [
    {
     "name": "stdout",
     "output_type": "stream",
     "text": [
      "-1\n"
     ]
    }
   ],
   "source": [
    "course = 'Python for beginners'\n",
    "print(course.find('biiiginners'))"
   ]
  },
  {
   "cell_type": "code",
   "execution_count": 10,
   "id": "comfortable-closing",
   "metadata": {},
   "outputs": [
    {
     "name": "stdout",
     "output_type": "stream",
     "text": [
      "Python for Absolute beginners\n"
     ]
    }
   ],
   "source": [
    "course = 'Python for beginners'\n",
    "print(course.replace('beginners', 'Absolute beginners'))"
   ]
  },
  {
   "cell_type": "code",
   "execution_count": 11,
   "id": "brave-municipality",
   "metadata": {},
   "outputs": [
    {
     "name": "stdout",
     "output_type": "stream",
     "text": [
      "True\n"
     ]
    }
   ],
   "source": [
    "course = 'Python for beginners'\n",
    "print('Python' in course)"
   ]
  },
  {
   "cell_type": "code",
   "execution_count": 12,
   "id": "visible-outreach",
   "metadata": {},
   "outputs": [
    {
     "name": "stdout",
     "output_type": "stream",
     "text": [
      "Python For Beginners\n"
     ]
    }
   ],
   "source": [
    "course = 'Python for beginners'\n",
    "print(course.title())"
   ]
  },
  {
   "cell_type": "code",
   "execution_count": null,
   "id": "included-replacement",
   "metadata": {},
   "outputs": [],
   "source": [
    "len()\n",
    "course.upper()\n",
    "course.lower()\n",
    "course.title()\n",
    "course.find()\n",
    "course.replace()\n",
    "'... in course"
   ]
  }
 ],
 "metadata": {
  "kernelspec": {
   "display_name": "Python 3",
   "language": "python",
   "name": "python3"
  },
  "language_info": {
   "codemirror_mode": {
    "name": "ipython",
    "version": 3
   },
   "file_extension": ".py",
   "mimetype": "text/x-python",
   "name": "python",
   "nbconvert_exporter": "python",
   "pygments_lexer": "ipython3",
   "version": "3.6.12"
  }
 },
 "nbformat": 4,
 "nbformat_minor": 5
}
