{
 "cells": [
  {
   "cell_type": "code",
   "execution_count": 1,
   "id": "agreed-folder",
   "metadata": {},
   "outputs": [
    {
     "name": "stdout",
     "output_type": "stream",
     "text": [
      "Start!\n",
      "Hi, John\n",
      "Welcome Abroad\n",
      "Finish!\n"
     ]
    }
   ],
   "source": [
    "def greet_user(name):\n",
    "    print(f\"Hi, {name}\")\n",
    "    print(\"Welcome Abroad\")\n",
    "    \n",
    "print(\"Start!\")\n",
    "greet_user(\"John\")\n",
    "print(\"Finish!\")"
   ]
  },
  {
   "cell_type": "code",
   "execution_count": 2,
   "id": "premier-reason",
   "metadata": {},
   "outputs": [
    {
     "name": "stdout",
     "output_type": "stream",
     "text": [
      "Start!\n",
      "Hi, John\n",
      "Welcome Abroad\n",
      "Hi, Mary\n",
      "Welcome Abroad\n",
      "Finish!\n"
     ]
    }
   ],
   "source": [
    "def greet_user(name):\n",
    "    print(f\"Hi, {name}\")\n",
    "    print(\"Welcome Abroad\")\n",
    "    \n",
    "print(\"Start!\")\n",
    "greet_user(\"John\")\n",
    "greet_user(\"Mary\") # Mary is an argument that passes to name parameter\n",
    "print(\"Finish!\")"
   ]
  },
  {
   "cell_type": "code",
   "execution_count": 3,
   "id": "amazing-nicholas",
   "metadata": {},
   "outputs": [
    {
     "name": "stdout",
     "output_type": "stream",
     "text": [
      "Start!\n",
      "Hi, John Smith\n",
      "Welcome Abroad\n",
      "Hi, Mary Sherry\n",
      "Welcome Abroad\n",
      "Finish!\n"
     ]
    }
   ],
   "source": [
    "def greet_user(first_name, last_name):\n",
    "    print(f\"Hi, {first_name} {last_name}\")\n",
    "    print(\"Welcome Abroad\")\n",
    "    \n",
    "print(\"Start!\")\n",
    "greet_user(\"John\", \"Smith\")\n",
    "greet_user(\"Mary\", \"Sherry\") # Mary is an argument that passes to name parameter\n",
    "print(\"Finish!\")"
   ]
  },
  {
   "cell_type": "code",
   "execution_count": 5,
   "id": "behavioral-endorsement",
   "metadata": {},
   "outputs": [
    {
     "name": "stdout",
     "output_type": "stream",
     "text": [
      "Start!\n",
      "Hi, Smith John\n",
      "Welcome Abroad\n",
      "Finish!\n"
     ]
    }
   ],
   "source": [
    "# default:positional argument\n",
    "# keyword argument\n",
    "\n",
    "def greet_user(first_name, last_name):\n",
    "    print(f\"Hi, {first_name} {last_name}\")\n",
    "    print(\"Welcome Abroad\")\n",
    "    \n",
    "print(\"Start!\")\n",
    "greet_user(last_name = \"John\", first_name = \"Smith\") # no one keyword argument one positional argument\n",
    "print(\"Finish!\")"
   ]
  },
  {
   "cell_type": "code",
   "execution_count": null,
   "id": "isolated-stuart",
   "metadata": {},
   "outputs": [],
   "source": []
  }
 ],
 "metadata": {
  "kernelspec": {
   "display_name": "Python 3",
   "language": "python",
   "name": "python3"
  },
  "language_info": {
   "codemirror_mode": {
    "name": "ipython",
    "version": 3
   },
   "file_extension": ".py",
   "mimetype": "text/x-python",
   "name": "python",
   "nbconvert_exporter": "python",
   "pygments_lexer": "ipython3",
   "version": "3.6.12"
  }
 },
 "nbformat": 4,
 "nbformat_minor": 5
}
