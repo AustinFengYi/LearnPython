{
 "cells": [
  {
   "cell_type": "code",
   "execution_count": 4,
   "id": "interpreted-massachusetts",
   "metadata": {},
   "outputs": [
    {
     "name": "stdout",
     "output_type": "stream",
     "text": [
      "> start\n",
      "Car starts!...\n",
      "> help\n",
      "\n",
      "        start -> to start the car\n",
      "        stop -> to stop the car\n",
      "        quit -> to quit\n",
      "        \n",
      "> quit\n",
      "Car Game Finished...\n"
     ]
    }
   ],
   "source": [
    "command = \"\"\n",
    "while command != \"quit\":\n",
    "    command = input(\"> \").lower()\n",
    "    \n",
    "    if command == \"start\":\n",
    "        print(\"Car starts!...\")\n",
    "    elif command == \"stop\":\n",
    "        print(\"Car stopped!!...\")\n",
    "    elif command == \"help\":\n",
    "        print(\"\"\"\n",
    "        start -> to start the car\n",
    "        stop -> to stop the car\n",
    "        quit -> to quit\n",
    "        \"\"\")\n",
    "    elif command == \"quit\":\n",
    "        print(\"Car Game Finished...\")\n",
    "        break\n",
    "    else:\n",
    "        print(\"Sorry.I don't understand. Please input 'help'\")\n"
   ]
  },
  {
   "cell_type": "code",
   "execution_count": 9,
   "id": "recreational-racing",
   "metadata": {},
   "outputs": [
    {
     "name": "stdout",
     "output_type": "stream",
     "text": [
      "> quit\n"
     ]
    }
   ],
   "source": [
    "command = \"\"\n",
    "while True :\n",
    "    command = input(\"> \").lower()\n",
    "    \n",
    "    if command == \"start\":\n",
    "        print(\"Car starts!...\")\n",
    "    elif command == \"stop\":\n",
    "        print(\"Car stopped!!...\")\n",
    "    elif command == \"help\":\n",
    "        print(\"\"\"\n",
    "        start -> to start the car\n",
    "        stop -> to stop the car\n",
    "        quit -> to quit\n",
    "        \"\"\")\n",
    "    elif command == \"quit\":\n",
    "        break\n",
    "    else:\n",
    "        print(\"Sorry.I don't understand. Please input 'help'\")\n"
   ]
  },
  {
   "cell_type": "code",
   "execution_count": null,
   "id": "sustainable-determination",
   "metadata": {},
   "outputs": [],
   "source": [
    "command = \"\"\n",
    "while True :\n",
    "    command = input(\"> \").lower()\n",
    "    \n",
    "    if command == \"start\":\n",
    "        print(\"Car starts!...\")\n",
    "    elif command == \"stop\":\n",
    "        print(\"Car stopped!!...\")\n",
    "    elif command == \"help\":\n",
    "        print(\"\"\"\n",
    "start -> to start the car\n",
    "stop -> to stop the car\n",
    "quit -> to quit\n",
    "        \"\"\")\n",
    "    elif command == \"quit\":\n",
    "        break\n",
    "    else:\n",
    "        print(\"Sorry.I don't understand. Please input 'help'\")\n"
   ]
  },
  {
   "cell_type": "code",
   "execution_count": 13,
   "id": "falling-guinea",
   "metadata": {},
   "outputs": [
    {
     "name": "stdout",
     "output_type": "stream",
     "text": [
      "> stop\n",
      "Your car is already stopped!...\n",
      "> start\n",
      "Car starts!...\n",
      "> start\n",
      "Your car is already started!...\n",
      "> stop\n",
      "Car stopped!!...\n",
      "> stop\n",
      "Your car is already stopped!...\n",
      "> quit\n"
     ]
    }
   ],
   "source": [
    "command = \"\"\n",
    "started = False\n",
    "\n",
    "while True:\n",
    "    command = input(\"> \").lower()\n",
    "    if command == \"start\":\n",
    "        if started:\n",
    "            print(\"Your car is already started!...\")\n",
    "        else:\n",
    "            started = True\n",
    "            print(\"Car starts!...\")\n",
    "        \n",
    "    elif command == \"stop\":\n",
    "        if not started:\n",
    "            print(\"Your car is already stopped!...\")\n",
    "        else:\n",
    "            started = False\n",
    "            print(\"Car stopped!!...\")\n",
    "    \n",
    "    elif command == \"help\":\n",
    "        print(\"\"\"\n",
    "start -> to start the car\n",
    "stop -> to stop the car\n",
    "quit -> to quit\n",
    "        \"\"\")\n",
    "    elif command == \"quit\":\n",
    "        break\n",
    "    else:\n",
    "        print(\"Sorry.I don't understand. Please input 'help'\")\n"
   ]
  },
  {
   "cell_type": "code",
   "execution_count": null,
   "id": "indirect-sheffield",
   "metadata": {},
   "outputs": [],
   "source": []
  }
 ],
 "metadata": {
  "kernelspec": {
   "display_name": "Python 3",
   "language": "python",
   "name": "python3"
  },
  "language_info": {
   "codemirror_mode": {
    "name": "ipython",
    "version": 3
   },
   "file_extension": ".py",
   "mimetype": "text/x-python",
   "name": "python",
   "nbconvert_exporter": "python",
   "pygments_lexer": "ipython3",
   "version": "3.6.12"
  }
 },
 "nbformat": 4,
 "nbformat_minor": 5
}
