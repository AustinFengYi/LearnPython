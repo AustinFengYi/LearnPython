{
 "cells": [
  {
   "cell_type": "code",
   "execution_count": 2,
   "id": "beneficial-chamber",
   "metadata": {},
   "outputs": [
    {
     "name": "stdout",
     "output_type": "stream",
     "text": [
      "John Smith\n"
     ]
    }
   ],
   "source": [
    "#Name\n",
    "#Email\n",
    "#Phone\n",
    "\n",
    "customer = {\n",
    "    \"name\":\"John Smith\",\n",
    "    \"Email\":\"rhino@gmail.com\",\n",
    "    \"Phone\":4345460903,\n",
    "    \"is_verified\": True\n",
    "}\n",
    "\n",
    "print(customer[\"name\"])"
   ]
  },
  {
   "cell_type": "code",
   "execution_count": 3,
   "id": "cooked-burden",
   "metadata": {},
   "outputs": [
    {
     "ename": "KeyError",
     "evalue": "'birthday'",
     "output_type": "error",
     "traceback": [
      "\u001b[0;31m---------------------------------------------------------------------------\u001b[0m",
      "\u001b[0;31mKeyError\u001b[0m                                  Traceback (most recent call last)",
      "\u001b[0;32m<ipython-input-3-d3df067cad9e>\u001b[0m in \u001b[0;36m<module>\u001b[0;34m\u001b[0m\n\u001b[1;32m     10\u001b[0m }\n\u001b[1;32m     11\u001b[0m \u001b[0;34m\u001b[0m\u001b[0m\n\u001b[0;32m---> 12\u001b[0;31m \u001b[0mprint\u001b[0m\u001b[0;34m(\u001b[0m\u001b[0mcustomer\u001b[0m\u001b[0;34m[\u001b[0m\u001b[0;34m\"birthday\"\u001b[0m\u001b[0;34m]\u001b[0m\u001b[0;34m)\u001b[0m\u001b[0;34m\u001b[0m\u001b[0;34m\u001b[0m\u001b[0m\n\u001b[0m",
      "\u001b[0;31mKeyError\u001b[0m: 'birthday'"
     ]
    }
   ],
   "source": [
    "#Name\n",
    "#Email\n",
    "#Phone\n",
    "\n",
    "customer = {\n",
    "    \"name\":\"John Smith\",\n",
    "    \"Email\":\"rhino@gmail.com\",\n",
    "    \"Phone\":4345460903,\n",
    "    \"is_verified\": True\n",
    "}\n",
    "\n",
    "print(customer[\"birthday\"])"
   ]
  },
  {
   "cell_type": "code",
   "execution_count": 4,
   "id": "coordinate-divide",
   "metadata": {},
   "outputs": [
    {
     "name": "stdout",
     "output_type": "stream",
     "text": [
      "John Smith\n"
     ]
    }
   ],
   "source": [
    "#Name\n",
    "#Email\n",
    "#Phone\n",
    "\n",
    "customer = {\n",
    "    \"name\":\"John Smith\",\n",
    "    \"Email\":\"rhino@gmail.com\",\n",
    "    \"Phone\":4345460903,\n",
    "    \"is_verified\": True\n",
    "}\n",
    "\n",
    "print(customer.get(\"name\"))"
   ]
  },
  {
   "cell_type": "code",
   "execution_count": 5,
   "id": "random-qatar",
   "metadata": {},
   "outputs": [
    {
     "name": "stdout",
     "output_type": "stream",
     "text": [
      "None\n"
     ]
    }
   ],
   "source": [
    "#Name\n",
    "#Email\n",
    "#Phone\n",
    "\n",
    "customer = {\n",
    "    \"name\":\"John Smith\",\n",
    "    \"Email\":\"rhino@gmail.com\",\n",
    "    \"Phone\":4345460903,\n",
    "    \"is_verified\": True\n",
    "}\n",
    "\n",
    "print(customer.get(\"birthday\"))"
   ]
  },
  {
   "cell_type": "code",
   "execution_count": 7,
   "id": "characteristic-driver",
   "metadata": {},
   "outputs": [
    {
     "name": "stdout",
     "output_type": "stream",
     "text": [
      "Jack Smith\n"
     ]
    }
   ],
   "source": [
    " #Name\n",
    "#Email\n",
    "#Phone\n",
    "\n",
    "customer = {\n",
    "    \"name\":\"John Smith\",\n",
    "    \"Email\":\"rhino@gmail.com\",\n",
    "    \"Phone\":4345460903,\n",
    "    \"is_verified\": True\n",
    "}\n",
    "customer[\"name\"] = \"Jack Smith\"\n",
    "\n",
    "print(customer[\"name\"])"
   ]
  },
  {
   "cell_type": "code",
   "execution_count": 8,
   "id": "adequate-lottery",
   "metadata": {},
   "outputs": [
    {
     "name": "stdout",
     "output_type": "stream",
     "text": [
      "1980 Jan 2\n"
     ]
    }
   ],
   "source": [
    " #Name\n",
    "#Email\n",
    "#Phone\n",
    "\n",
    "customer = {\n",
    "    \"name\":\"John Smith\",\n",
    "    \"Email\":\"rhino@gmail.com\",\n",
    "    \"Phone\":4345460903,\n",
    "    \"is_verified\": True\n",
    "}\n",
    "customer[\"birthday\"] = \"1980 Jan 2\"\n",
    "\n",
    "print(customer[\"birthday\"])"
   ]
  },
  {
   "cell_type": "code",
   "execution_count": 10,
   "id": "worse-apparatus",
   "metadata": {},
   "outputs": [
    {
     "name": "stdout",
     "output_type": "stream",
     "text": [
      "Phone: 5467\n",
      "['Five', 'Four', 'Six', 'Seven']\n"
     ]
    }
   ],
   "source": [
    "phone = input(\"Phone: \")\n",
    "digits_mapping = {\n",
    "    \"1\":\"One\",\n",
    "    \"2\":\"Two\",\n",
    "    \"3\":\"Three\",\n",
    "    \"4\":\"Four\",\n",
    "    \"5\":\"Five\",\n",
    "    \"6\":\"Six\",\n",
    "    \"7\":\"Seven\",\n",
    "    \"8\":\"Eight\",\n",
    "    \"9\":\"Nine\"\n",
    "}\n",
    "\n",
    "transfer = []\n",
    "\n",
    "for number in phone:\n",
    "    transfer.append(digits_mapping[number])\n",
    "\n",
    "print(transfer)"
   ]
  },
  {
   "cell_type": "code",
   "execution_count": 14,
   "id": "nasty-summary",
   "metadata": {},
   "outputs": [
    {
     "name": "stdout",
     "output_type": "stream",
     "text": [
      "Phone: 4369\n",
      "Four Three Six ! \n"
     ]
    }
   ],
   "source": [
    "phone = input(\"Phone: \")\n",
    "digits_mapping = {\n",
    "    \"1\":\"One\",\n",
    "    \"2\":\"Two\",\n",
    "    \"3\":\"Three\",\n",
    "    \"4\":\"Four\",\n",
    "    \"5\":\"Five\",\n",
    "    \"6\":\"Six\",\n",
    "    \"7\":\"Seven\",\n",
    "    \"8\":\"Eight\",\n",
    "    \n",
    "}\n",
    "\n",
    "output = \"\"\n",
    "\n",
    "for ch in phone:\n",
    "    output += digits_mapping.get(ch,\"!\") + \" \"\n",
    "\n",
    "print(output)"
   ]
  },
  {
   "cell_type": "code",
   "execution_count": null,
   "id": "visible-student",
   "metadata": {},
   "outputs": [],
   "source": []
  }
 ],
 "metadata": {
  "kernelspec": {
   "display_name": "Python 3",
   "language": "python",
   "name": "python3"
  },
  "language_info": {
   "codemirror_mode": {
    "name": "ipython",
    "version": 3
   },
   "file_extension": ".py",
   "mimetype": "text/x-python",
   "name": "python",
   "nbconvert_exporter": "python",
   "pygments_lexer": "ipython3",
   "version": "3.6.12"
  }
 },
 "nbformat": 4,
 "nbformat_minor": 5
}
