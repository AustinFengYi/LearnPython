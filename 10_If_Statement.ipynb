{
 "cells": [
  {
   "cell_type": "code",
   "execution_count": 1,
   "id": "pointed-genetics",
   "metadata": {},
   "outputs": [
    {
     "name": "stdout",
     "output_type": "stream",
     "text": [
      "It's a hot day.\n",
      "Enjoy your day.\n"
     ]
    }
   ],
   "source": [
    "is_hot = True\n",
    "\n",
    "if is_hot:\n",
    "    print(\"It's a hot day.\")\n",
    "\n",
    "print(\"Enjoy your day.\")"
   ]
  },
  {
   "cell_type": "code",
   "execution_count": 2,
   "id": "pending-latest",
   "metadata": {},
   "outputs": [
    {
     "name": "stdout",
     "output_type": "stream",
     "text": [
      "Enjoy your day.\n"
     ]
    }
   ],
   "source": [
    "is_hot = False\n",
    "\n",
    "if is_hot:\n",
    "    print(\"It's a hot day.\")\n",
    "\n",
    "print(\"Enjoy your day.\")"
   ]
  },
  {
   "cell_type": "code",
   "execution_count": 4,
   "id": "meaningful-garden",
   "metadata": {},
   "outputs": [
    {
     "name": "stdout",
     "output_type": "stream",
     "text": [
      "It's a cold day.\n",
      "Enjoy your day.\n"
     ]
    }
   ],
   "source": [
    "is_hot = False\n",
    "\n",
    "if is_hot:\n",
    "    print(\"It's a hot day.\")\n",
    "else:\n",
    "    print(\"It's a cold day.\")\n",
    "\n",
    "print(\"Enjoy your day.\")"
   ]
  },
  {
   "cell_type": "code",
   "execution_count": 5,
   "id": "rubber-launch",
   "metadata": {},
   "outputs": [
    {
     "name": "stdout",
     "output_type": "stream",
     "text": [
      "It's a cold day.\n",
      "Enjoy your day.\n"
     ]
    }
   ],
   "source": [
    "is_hot = False\n",
    "is_cold = True\n",
    "\n",
    "if is_hot:\n",
    "    print(\"It's a hot day.\")\n",
    "elif is_cold:\n",
    "    print(\"It's a cold day.\")\n",
    "else:\n",
    "    print(\"It's a lovely day.\")\n",
    "    \n",
    "print(\"Enjoy your day.\")"
   ]
  },
  {
   "cell_type": "code",
   "execution_count": 6,
   "id": "passive-madness",
   "metadata": {},
   "outputs": [
    {
     "name": "stdout",
     "output_type": "stream",
     "text": [
      "It's a lovely day.\n",
      "Enjoy your day.\n"
     ]
    }
   ],
   "source": [
    "is_hot = False\n",
    "is_cold = False\n",
    "\n",
    "if is_hot:\n",
    "    print(\"It's a hot day.\")\n",
    "elif is_cold:\n",
    "    print(\"It's a cold day.\")\n",
    "else:\n",
    "    print(\"It's a lovely day.\")\n",
    "    \n",
    "print(\"Enjoy your day.\")"
   ]
  },
  {
   "cell_type": "code",
   "execution_count": 11,
   "id": "plastic-davis",
   "metadata": {},
   "outputs": [
    {
     "name": "stdout",
     "output_type": "stream",
     "text": [
      "Down Payment: $200.0\n"
     ]
    }
   ],
   "source": [
    "price_house = 1000\n",
    "good_credit = True\n",
    "\n",
    "if good_credit:\n",
    "    down_payment =  price_house * 0.2\n",
    "else:\n",
    "    down_payment =  price_house * 0.1\n",
    "\n",
    "print(f\"Down Payment: ${down_payment}\")"
   ]
  },
  {
   "cell_type": "code",
   "execution_count": null,
   "id": "searching-delight",
   "metadata": {},
   "outputs": [],
   "source": []
  }
 ],
 "metadata": {
  "kernelspec": {
   "display_name": "Python 3",
   "language": "python",
   "name": "python3"
  },
  "language_info": {
   "codemirror_mode": {
    "name": "ipython",
    "version": 3
   },
   "file_extension": ".py",
   "mimetype": "text/x-python",
   "name": "python",
   "nbconvert_exporter": "python",
   "pygments_lexer": "ipython3",
   "version": "3.6.12"
  }
 },
 "nbformat": 4,
 "nbformat_minor": 5
}
