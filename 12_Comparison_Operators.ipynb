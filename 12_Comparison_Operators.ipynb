{
 "cells": [
  {
   "cell_type": "code",
   "execution_count": 3,
   "id": "sophisticated-demand",
   "metadata": {},
   "outputs": [
    {
     "name": "stdout",
     "output_type": "stream",
     "text": [
      "it is a hot day.\n"
     ]
    }
   ],
   "source": [
    "# if temperature is higher than 30\n",
    "#    it is a hot day\n",
    "# if temperature is lower than 10\n",
    "#    it is a cold day\n",
    "# otherwise\n",
    "#    it is neither hot and cold\n",
    "\n",
    "temperature = 35\n",
    "if temperature > 30:\n",
    "    print(\"it is a hot day.\")\n",
    "elif temperature < 10:\n",
    "    print(\"it is not a hot day\")\n",
    "else:\n",
    "    print(\"it is neither hot and cold\")"
   ]
  },
  {
   "cell_type": "code",
   "execution_count": 6,
   "id": "curious-pharmaceutical",
   "metadata": {},
   "outputs": [
    {
     "name": "stdout",
     "output_type": "stream",
     "text": [
      "name must at least three characters\n"
     ]
    }
   ],
   "source": [
    "name = \"Au\"\n",
    "\n",
    "if len(name) < 3:\n",
    "    print(\"name must be at least 3 characters\")\n",
    "elif len(name) > 50:\n",
    "    print(\"name can be a maximum of 50 characters\")\n",
    "else:\n",
    "    print(\"name looks good\")"
   ]
  },
  {
   "cell_type": "code",
   "execution_count": null,
   "id": "patent-sending",
   "metadata": {},
   "outputs": [],
   "source": []
  }
 ],
 "metadata": {
  "kernelspec": {
   "display_name": "Python 3",
   "language": "python",
   "name": "python3"
  },
  "language_info": {
   "codemirror_mode": {
    "name": "ipython",
    "version": 3
   },
   "file_extension": ".py",
   "mimetype": "text/x-python",
   "name": "python",
   "nbconvert_exporter": "python",
   "pygments_lexer": "ipython3",
   "version": "3.6.12"
  }
 },
 "nbformat": 4,
 "nbformat_minor": 5
}
