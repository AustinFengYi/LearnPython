{
 "cells": [
  {
   "cell_type": "code",
   "execution_count": 1,
   "id": "mysterious-collapse",
   "metadata": {},
   "outputs": [
    {
     "name": "stdout",
     "output_type": "stream",
     "text": [
      "Austin\n"
     ]
    }
   ],
   "source": [
    "print(\"Austin\")"
   ]
  },
  {
   "cell_type": "code",
   "execution_count": 2,
   "id": "cubic-discovery",
   "metadata": {},
   "outputs": [
    {
     "name": "stdout",
     "output_type": "stream",
     "text": [
      "Austin\n",
      "0----\n",
      " |||\n"
     ]
    }
   ],
   "source": [
    "print(\"Austin\")\n",
    "print('0----')\n",
    "print(' |||')"
   ]
  },
  {
   "cell_type": "code",
   "execution_count": 3,
   "id": "encouraging-marine",
   "metadata": {},
   "outputs": [
    {
     "name": "stdout",
     "output_type": "stream",
     "text": [
      "Austin\n",
      "0----\n",
      " |||\n",
      "**********\n"
     ]
    }
   ],
   "source": [
    "print(\"Austin\")\n",
    "print('0----')\n",
    "print(' |||')\n",
    "print('*' * 10)"
   ]
  },
  {
   "cell_type": "code",
   "execution_count": 5,
   "id": "respected-veteran",
   "metadata": {},
   "outputs": [
    {
     "name": "stdout",
     "output_type": "stream",
     "text": [
      " Austin Austin Austin Austin Austin\n"
     ]
    }
   ],
   "source": [
    "print(' Austin' * 5)"
   ]
  },
  {
   "cell_type": "code",
   "execution_count": null,
   "id": "lucky-generator",
   "metadata": {},
   "outputs": [],
   "source": []
  }
 ],
 "metadata": {
  "kernelspec": {
   "display_name": "Python 3",
   "language": "python",
   "name": "python3"
  },
  "language_info": {
   "codemirror_mode": {
    "name": "ipython",
    "version": 3
   },
   "file_extension": ".py",
   "mimetype": "text/x-python",
   "name": "python",
   "nbconvert_exporter": "python",
   "pygments_lexer": "ipython3",
   "version": "3.6.12"
  }
 },
 "nbformat": 4,
 "nbformat_minor": 5
}
