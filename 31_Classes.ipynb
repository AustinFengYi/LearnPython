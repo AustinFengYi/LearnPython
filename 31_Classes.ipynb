{
 "cells": [
  {
   "cell_type": "code",
   "execution_count": 1,
   "id": "corresponding-overview",
   "metadata": {},
   "outputs": [
    {
     "name": "stdout",
     "output_type": "stream",
     "text": [
      "draw\n"
     ]
    }
   ],
   "source": [
    "\"\"\"\n",
    "Type-->\n",
    "Numbers\n",
    "Strings\n",
    "Booleans\n",
    "--------------\n",
    "Lists\n",
    "Dictionaries\n",
    "---------------\n",
    "Class --> Define New Type Concept\n",
    "\"\"\"\n",
    "\n",
    "class Point:\n",
    "    def move(self):\n",
    "        print(\"move\")\n",
    "    def draw(self):\n",
    "        print(\"draw\")\n",
    "        \n",
    "\n",
    "point1 = Point() # Create an object\n",
    "point1.draw()\n",
    "\n"
   ]
  },
  {
   "cell_type": "code",
   "execution_count": 3,
   "id": "cubic-firmware",
   "metadata": {},
   "outputs": [
    {
     "name": "stdout",
     "output_type": "stream",
     "text": [
      "10\n",
      "draw\n",
      "1\n"
     ]
    }
   ],
   "source": [
    "class Point:\n",
    "    def move(self):\n",
    "        print(\"move\")\n",
    "    def draw(self):\n",
    "        print(\"draw\")\n",
    "        \n",
    "\n",
    "point1 = Point() # Create an object\n",
    "point1.x = 10\n",
    "point1.y = 20\n",
    "print(point1.x)\n",
    "point1.draw()\n",
    "\n",
    "point2 = Point() # each object has different instance\n",
    "point2.x = 1\n",
    "print(point2.x)"
   ]
  },
  {
   "cell_type": "code",
   "execution_count": null,
   "id": "danish-england",
   "metadata": {},
   "outputs": [],
   "source": []
  }
 ],
 "metadata": {
  "kernelspec": {
   "display_name": "Python 3",
   "language": "python",
   "name": "python3"
  },
  "language_info": {
   "codemirror_mode": {
    "name": "ipython",
    "version": 3
   },
   "file_extension": ".py",
   "mimetype": "text/x-python",
   "name": "python",
   "nbconvert_exporter": "python",
   "pygments_lexer": "ipython3",
   "version": "3.6.12"
  }
 },
 "nbformat": 4,
 "nbformat_minor": 5
}
