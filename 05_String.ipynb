{
 "cells": [
  {
   "cell_type": "code",
   "execution_count": 1,
   "id": "historic-convertible",
   "metadata": {},
   "outputs": [
    {
     "name": "stdout",
     "output_type": "stream",
     "text": [
      "Python's course for beginner\n"
     ]
    }
   ],
   "source": [
    "course = \"Python's course for beginner\"\n",
    "print(course)"
   ]
  },
  {
   "cell_type": "code",
   "execution_count": 2,
   "id": "concerned-calgary",
   "metadata": {},
   "outputs": [
    {
     "name": "stdout",
     "output_type": "stream",
     "text": [
      "Pythons course for \"beginner\"\n"
     ]
    }
   ],
   "source": [
    "course = 'Pythons course for \"beginner\"'\n",
    "print(course)"
   ]
  },
  {
   "cell_type": "code",
   "execution_count": 3,
   "id": "underlying-verification",
   "metadata": {},
   "outputs": [
    {
     "name": "stdout",
     "output_type": "stream",
     "text": [
      "\n",
      "Hi, Austin\n",
      "This youe first Email\n",
      "\n",
      "Thank you\n",
      "\n",
      "The Support Team\n",
      "\n"
     ]
    }
   ],
   "source": [
    "course = '''\n",
    "Hi, Austin\n",
    "This youe first Email\n",
    "\n",
    "Thank you\n",
    "\n",
    "The Support Team\n",
    "'''\n",
    "\n",
    "print(course)"
   ]
  },
  {
   "cell_type": "code",
   "execution_count": 4,
   "id": "obvious-subscription",
   "metadata": {},
   "outputs": [
    {
     "name": "stdout",
     "output_type": "stream",
     "text": [
      "P\n"
     ]
    }
   ],
   "source": [
    "course = 'Python course for beginner'\n",
    "print(course[0])"
   ]
  },
  {
   "cell_type": "code",
   "execution_count": 5,
   "id": "continent-produce",
   "metadata": {},
   "outputs": [
    {
     "name": "stdout",
     "output_type": "stream",
     "text": [
      "r\n"
     ]
    }
   ],
   "source": [
    "course = 'Python course for beginner'\n",
    "print(course[-1])"
   ]
  },
  {
   "cell_type": "code",
   "execution_count": 6,
   "id": "unlimited-latest",
   "metadata": {},
   "outputs": [
    {
     "name": "stdout",
     "output_type": "stream",
     "text": [
      "e\n"
     ]
    }
   ],
   "source": [
    "course = 'Python course for beginner'\n",
    "print(course[-2])"
   ]
  },
  {
   "cell_type": "code",
   "execution_count": 7,
   "id": "marked-innocent",
   "metadata": {},
   "outputs": [
    {
     "name": "stdout",
     "output_type": "stream",
     "text": [
      "Pyt\n"
     ]
    }
   ],
   "source": [
    "course = 'Python course for beginner'\n",
    "print(course[0:3])"
   ]
  },
  {
   "cell_type": "code",
   "execution_count": 8,
   "id": "residential-civilization",
   "metadata": {},
   "outputs": [
    {
     "name": "stdout",
     "output_type": "stream",
     "text": [
      "Python course for beginner\n"
     ]
    }
   ],
   "source": [
    "course = 'Python course for beginner'\n",
    "print(course[0:])"
   ]
  },
  {
   "cell_type": "code",
   "execution_count": 9,
   "id": "sunrise-newton",
   "metadata": {},
   "outputs": [
    {
     "name": "stdout",
     "output_type": "stream",
     "text": [
      "ython course for beginner\n"
     ]
    }
   ],
   "source": [
    "course = 'Python course for beginner'\n",
    "print(course[1:])"
   ]
  },
  {
   "cell_type": "code",
   "execution_count": 10,
   "id": "higher-privacy",
   "metadata": {},
   "outputs": [
    {
     "name": "stdout",
     "output_type": "stream",
     "text": [
      "Pytho\n"
     ]
    }
   ],
   "source": [
    "course = 'Python course for beginner'\n",
    "print(course[:5])"
   ]
  },
  {
   "cell_type": "code",
   "execution_count": 11,
   "id": "residential-enclosure",
   "metadata": {},
   "outputs": [
    {
     "name": "stdout",
     "output_type": "stream",
     "text": [
      "Python course for beginner\n"
     ]
    }
   ],
   "source": [
    "course = 'Python course for beginner'\n",
    "another = course[:] # means all\n",
    "\n",
    "print(another)"
   ]
  },
  {
   "cell_type": "code",
   "execution_count": 12,
   "id": "dominican-intelligence",
   "metadata": {},
   "outputs": [
    {
     "name": "stdout",
     "output_type": "stream",
     "text": [
      "ennife\n"
     ]
    }
   ],
   "source": [
    "name = 'Jennifer'\n",
    "print(name[1:-1])"
   ]
  },
  {
   "cell_type": "code",
   "execution_count": null,
   "id": "formal-nurse",
   "metadata": {},
   "outputs": [],
   "source": []
  }
 ],
 "metadata": {
  "kernelspec": {
   "display_name": "Python 3",
   "language": "python",
   "name": "python3"
  },
  "language_info": {
   "codemirror_mode": {
    "name": "ipython",
    "version": 3
   },
   "file_extension": ".py",
   "mimetype": "text/x-python",
   "name": "python",
   "nbconvert_exporter": "python",
   "pygments_lexer": "ipython3",
   "version": "3.6.12"
  }
 },
 "nbformat": 4,
 "nbformat_minor": 5
}
