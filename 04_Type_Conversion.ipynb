{
 "cells": [
  {
   "cell_type": "code",
   "execution_count": 2,
   "id": "conventional-objective",
   "metadata": {},
   "outputs": [
    {
     "name": "stdout",
     "output_type": "stream",
     "text": [
      "Birth Year: 1994\n",
      "27\n"
     ]
    }
   ],
   "source": [
    "birth_year = input('Birth Year: ') # birth_year is string type # birth_year = '1994'\n",
    "\n",
    "# age = 2021 - birth_year --> 2021 -'1994'\n",
    "age = 2021 - int(birth_year)\n",
    "\n",
    "print(age)"
   ]
  },
  {
   "cell_type": "code",
   "execution_count": 3,
   "id": "familiar-surgeon",
   "metadata": {},
   "outputs": [
    {
     "name": "stdout",
     "output_type": "stream",
     "text": [
      "Birth Year: 1994\n",
      "<class 'str'>\n",
      "<class 'int'>\n",
      "27\n"
     ]
    }
   ],
   "source": [
    "birth_year = input('Birth Year: ') # birth_year is string type # birth_year = '1994'\n",
    "print(type(birth_year))\n",
    "\n",
    "# age = 2021 - birth_year --> 2021 -'1994'\n",
    "age = 2021 - int(birth_year)\n",
    "print(type(age))\n",
    "\n",
    "print(age)"
   ]
  },
  {
   "cell_type": "code",
   "execution_count": 10,
   "id": "governing-change",
   "metadata": {},
   "outputs": [
    {
     "name": "stdout",
     "output_type": "stream",
     "text": [
      "Please input your weight(in pounds): 181\n",
      "Your weight in kilograms is: 81.45\n"
     ]
    }
   ],
   "source": [
    "# Practice: Ask a user his weight(in pounds), convert it to kilograms and print on the terminal\n",
    "weight_pound = input('Please input your weight(in pounds): ')\n",
    "\n",
    "weight_kilo = int(weight_pound) * 0.45\n",
    "\n",
    "print('Your weight in kilograms is: ' + str(weight_kilo))\n"
   ]
  },
  {
   "cell_type": "code",
   "execution_count": null,
   "id": "interested-richards",
   "metadata": {},
   "outputs": [],
   "source": []
  },
  {
   "cell_type": "code",
   "execution_count": null,
   "id": "leading-prototype",
   "metadata": {},
   "outputs": [],
   "source": []
  }
 ],
 "metadata": {
  "kernelspec": {
   "display_name": "Python 3",
   "language": "python",
   "name": "python3"
  },
  "language_info": {
   "codemirror_mode": {
    "name": "ipython",
    "version": 3
   },
   "file_extension": ".py",
   "mimetype": "text/x-python",
   "name": "python",
   "nbconvert_exporter": "python",
   "pygments_lexer": "ipython3",
   "version": "3.6.12"
  }
 },
 "nbformat": 4,
 "nbformat_minor": 5
}
