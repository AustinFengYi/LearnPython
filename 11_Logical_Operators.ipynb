{
 "cells": [
  {
   "cell_type": "code",
   "execution_count": 1,
   "id": "explicit-blanket",
   "metadata": {},
   "outputs": [
    {
     "name": "stdout",
     "output_type": "stream",
     "text": [
      "Eligible for Loan.\n"
     ]
    }
   ],
   "source": [
    "# if applicant has higher income AND good credit\n",
    "#     Eligible for Loan\n",
    "\n",
    "has_high_income = True\n",
    "is_good_credit = True\n",
    "\n",
    "if has_high_income and is_good_credit:\n",
    "    print(\"Eligible for Loan.\")"
   ]
  },
  {
   "cell_type": "code",
   "execution_count": 2,
   "id": "crazy-damage",
   "metadata": {},
   "outputs": [
    {
     "name": "stdout",
     "output_type": "stream",
     "text": [
      "Eligible for Loan.\n"
     ]
    }
   ],
   "source": [
    "has_high_income = True\n",
    "has_criminal_record = False\n",
    "\n",
    "if has_high_income and not has_criminal_record:\n",
    "    print(\"Eligible for Loan.\")"
   ]
  },
  {
   "cell_type": "code",
   "execution_count": null,
   "id": "featured-thailand",
   "metadata": {},
   "outputs": [],
   "source": []
  }
 ],
 "metadata": {
  "kernelspec": {
   "display_name": "Python 3",
   "language": "python",
   "name": "python3"
  },
  "language_info": {
   "codemirror_mode": {
    "name": "ipython",
    "version": 3
   },
   "file_extension": ".py",
   "mimetype": "text/x-python",
   "name": "python",
   "nbconvert_exporter": "python",
   "pygments_lexer": "ipython3",
   "version": "3.6.12"
  }
 },
 "nbformat": 4,
 "nbformat_minor": 5
}
