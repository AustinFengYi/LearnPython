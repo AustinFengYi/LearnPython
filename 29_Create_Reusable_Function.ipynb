{
 "cells": [
  {
   "cell_type": "code",
   "execution_count": 1,
   "id": "mediterranean-aluminum",
   "metadata": {},
   "outputs": [
    {
     "name": "stdout",
     "output_type": "stream",
     "text": [
      ">Good morning :)\n",
      "Good morning 😄 \n"
     ]
    }
   ],
   "source": [
    "def emoji_converter(message):\n",
    "    words = message.split(' ')\n",
    "    emojis = {\n",
    "        \":)\": \"😄\", # press ctl + cmd + space\n",
    "        \":(\": \"😞\"\n",
    "    }\n",
    "\n",
    "    output = \"\"\n",
    "    for word in words:\n",
    "        output += emojis.get(word,word) + \" \"\n",
    "    return output # Remember Blank 2 lines\n",
    "\n",
    "\n",
    "message = input(\">\")\n",
    "print(emoji_converter(message))\n"
   ]
  },
  {
   "cell_type": "code",
   "execution_count": null,
   "id": "incorrect-spell",
   "metadata": {},
   "outputs": [],
   "source": []
  }
 ],
 "metadata": {
  "kernelspec": {
   "display_name": "Python 3",
   "language": "python",
   "name": "python3"
  },
  "language_info": {
   "codemirror_mode": {
    "name": "ipython",
    "version": 3
   },
   "file_extension": ".py",
   "mimetype": "text/x-python",
   "name": "python",
   "nbconvert_exporter": "python",
   "pygments_lexer": "ipython3",
   "version": "3.6.12"
  }
 },
 "nbformat": 4,
 "nbformat_minor": 5
}
