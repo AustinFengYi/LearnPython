{
 "cells": [
  {
   "cell_type": "code",
   "execution_count": 3,
   "id": "instructional-financing",
   "metadata": {},
   "outputs": [
    {
     "name": "stdout",
     "output_type": "stream",
     "text": [
      "{'name': 'Max', 'age': 28, 'city': 'Boston'}\n",
      "{'name': 'Mary', 'age': 28, 'city': 'Boston'}\n",
      "Max\n"
     ]
    }
   ],
   "source": [
    "mydict = {\"name\":\"Max\", \"age\": 28, \"city\": \"Boston\"}\n",
    "print(mydict)\n",
    "\n",
    "mydict2 = dict(name=\"Mary\", age = 28, city = \"Boston\")\n",
    "print(mydict2)\n",
    "\n",
    "\n",
    "value = mydict[\"name\"]\n",
    "print(value)\n"
   ]
  },
  {
   "cell_type": "code",
   "execution_count": 5,
   "id": "accompanied-observer",
   "metadata": {},
   "outputs": [
    {
     "name": "stdout",
     "output_type": "stream",
     "text": [
      "{'name': 'Jason', 'age': 28, 'city': 'Boston'}\n"
     ]
    }
   ],
   "source": [
    "mydict = {\"name\":\"Max\", \"age\": 28, \"city\": \"Boston\"}\n",
    "mydict[\"name\"] = \"Jason\"\n",
    "print(mydict)"
   ]
  },
  {
   "cell_type": "code",
   "execution_count": 6,
   "id": "micro-fabric",
   "metadata": {},
   "outputs": [
    {
     "name": "stdout",
     "output_type": "stream",
     "text": [
      "{'name': 'Max', 'age': 28, 'city': 'Boston', 'email': 'xxx@gmail.com'}\n"
     ]
    }
   ],
   "source": [
    "mydict = {\"name\":\"Max\", \"age\": 28, \"city\": \"Boston\"}\n",
    "mydict[\"email\"] = \"xxx@gmail.com\"\n",
    "print(mydict)"
   ]
  },
  {
   "cell_type": "code",
   "execution_count": 7,
   "id": "patient-democracy",
   "metadata": {},
   "outputs": [
    {
     "name": "stdout",
     "output_type": "stream",
     "text": [
      "{'name': 'Max', 'age': 28, 'city': 'Boston', 'email': 'cool@gmail.com'}\n"
     ]
    }
   ],
   "source": [
    "mydict = {\"name\":\"Max\", \"age\": 28, \"city\": \"Boston\"}\n",
    "mydict[\"email\"] = \"xxx@gmail.com\"\n",
    "mydict[\"email\"] = \"cool@gmail.com\"\n",
    "print(mydict)"
   ]
  },
  {
   "cell_type": "code",
   "execution_count": 9,
   "id": "lonely-portable",
   "metadata": {},
   "outputs": [
    {
     "name": "stdout",
     "output_type": "stream",
     "text": [
      "{'age': 28, 'city': 'Boston'}\n"
     ]
    }
   ],
   "source": [
    "my_dict = {\"name\":\"Max\", \"age\": 28, \"city\": \"Boston\"}\n",
    "del my_dict[\"name\"]\n",
    "\n",
    "print(my_dict)"
   ]
  },
  {
   "cell_type": "code",
   "execution_count": 10,
   "id": "opposed-precipitation",
   "metadata": {},
   "outputs": [
    {
     "name": "stdout",
     "output_type": "stream",
     "text": [
      "{'age': 28, 'city': 'Boston'}\n"
     ]
    }
   ],
   "source": [
    "my_dict = {\"name\":\"Max\", \"age\": 28, \"city\": \"Boston\"}\n",
    "my_dict.pop(\"name\")\n",
    "\n",
    "print(my_dict)"
   ]
  },
  {
   "cell_type": "code",
   "execution_count": 11,
   "id": "theoretical-veteran",
   "metadata": {},
   "outputs": [
    {
     "name": "stdout",
     "output_type": "stream",
     "text": [
      "Max\n"
     ]
    }
   ],
   "source": [
    "my_dict = {\"name\":\"Max\", \"age\": 28, \"city\": \"Boston\"}\n",
    "\n",
    "if \"name\" in my_dict:\n",
    "    print(my_dict[\"name\"])"
   ]
  },
  {
   "cell_type": "code",
   "execution_count": 12,
   "id": "cardiac-history",
   "metadata": {},
   "outputs": [
    {
     "name": "stdout",
     "output_type": "stream",
     "text": [
      "Max\n"
     ]
    }
   ],
   "source": [
    "my_dict = {\"name\":\"Max\", \"age\": 28, \"city\": \"Boston\"}\n",
    "\n",
    "try:\n",
    "    print(my_dict[\"name\"])\n",
    "except:\n",
    "    print(\"err\")"
   ]
  },
  {
   "cell_type": "code",
   "execution_count": 13,
   "id": "intense-credits",
   "metadata": {},
   "outputs": [
    {
     "name": "stdout",
     "output_type": "stream",
     "text": [
      "err\n"
     ]
    }
   ],
   "source": [
    "my_dict = {\"name\":\"Max\", \"age\": 28, \"city\": \"Boston\"}\n",
    "\n",
    "try:\n",
    "    print(my_dict[\"lastname\"])\n",
    "except:\n",
    "    print(\"err\")"
   ]
  },
  {
   "cell_type": "code",
   "execution_count": 22,
   "id": "industrial-involvement",
   "metadata": {},
   "outputs": [
    {
     "name": "stdout",
     "output_type": "stream",
     "text": [
      "{'name': 'Max', 'age': 28, 'city': 'Boston'}\n",
      "name\n",
      "age\n",
      "city\n",
      "\n",
      "Max\n",
      "28\n",
      "Boston\n",
      "\n",
      "name Max\n",
      "age 28\n",
      "city Boston\n"
     ]
    }
   ],
   "source": [
    "my_dict = {\"name\":\"Max\", \"age\": 28, \"city\": \"Boston\"}\n",
    "print(my_dict)\n",
    "\n",
    "for key in my_dict.keys():\n",
    "    print(key)\n",
    "    \n",
    "print(\"\")\n",
    "    \n",
    "for value in my_dict.values():\n",
    "    print(value)\n",
    "\n",
    "print(\"\")\n",
    "\n",
    "for key, value in my_dict.items():\n",
    "    print(key, value)"
   ]
  },
  {
   "cell_type": "code",
   "execution_count": 24,
   "id": "steady-internship",
   "metadata": {},
   "outputs": [
    {
     "name": "stdout",
     "output_type": "stream",
     "text": [
      "{'name': 'Max', 'age': 28, 'city': 'Boston'}\n",
      "{'name': 'Max', 'age': 28, 'city': 'Boston'}\n",
      "{'name': 'Max', 'age': 28, 'city': 'Boston', 'email': 'xxx@gmail.com'}\n",
      "{'name': 'Max', 'age': 28, 'city': 'Boston', 'email': 'xxx@gmail.com'}\n"
     ]
    }
   ],
   "source": [
    "my_dict = {\"name\":\"Max\", \"age\": 28, \"city\": \"Boston\"}\n",
    "print(my_dict)\n",
    "\n",
    "my_dict_copy = my_dict\n",
    "print(my_dict_copy)\n",
    "\n",
    "# Both dicts have same value, bacause all dicts now point to the same memory \n",
    "my_dict_copy[\"email\"] = \"xxx@gmail.com\"\n",
    "print(my_dict)\n",
    "print(my_dict_copy)"
   ]
  },
  {
   "cell_type": "code",
   "execution_count": 25,
   "id": "realistic-citizen",
   "metadata": {},
   "outputs": [
    {
     "name": "stdout",
     "output_type": "stream",
     "text": [
      "{'name': 'Max', 'age': 28, 'city': 'Boston'}\n",
      "{'name': 'Max', 'age': 28, 'city': 'Boston'}\n",
      "{'name': 'Max', 'age': 28, 'city': 'Boston'}\n",
      "{'name': 'Max', 'age': 28, 'city': 'Boston', 'email': 'xxx@gmail.com'}\n"
     ]
    }
   ],
   "source": [
    "my_dict = {\"name\":\"Max\", \"age\": 28, \"city\": \"Boston\"}\n",
    "print(my_dict)\n",
    "\n",
    "my_dict_copy = dict(my_dict)\n",
    "print(my_dict_copy)\n",
    "\n",
    "# Both dicts have same value, bacause all dicts now point to the same memory \n",
    "my_dict_copy[\"email\"] = \"xxx@gmail.com\"\n",
    "print(my_dict)\n",
    "print(my_dict_copy)"
   ]
  },
  {
   "cell_type": "code",
   "execution_count": 26,
   "id": "automated-andrew",
   "metadata": {},
   "outputs": [
    {
     "name": "stdout",
     "output_type": "stream",
     "text": [
      "{'name': 'Mary', 'age': 28, 'city': 'Boston', 'email': 'cool@gmail.com'}\n"
     ]
    }
   ],
   "source": [
    "my_dict = {\"name\":\"Max\", \"age\": 28, \"city\": \"Boston\"}\n",
    "my_dict_2 = dict(name=\"Mary\", age = 28, email = \"cool@gmail.com\")\n",
    "\n",
    "my_dict.update(my_dict_2)\n",
    "\n",
    "print(my_dict)"
   ]
  },
  {
   "cell_type": "code",
   "execution_count": 27,
   "id": "average-processor",
   "metadata": {},
   "outputs": [
    {
     "name": "stdout",
     "output_type": "stream",
     "text": [
      "{(8, 7): 15}\n"
     ]
    }
   ],
   "source": [
    "my_tuple = (8,7)\n",
    "my_dict = {my_tuple:15}\n",
    "\n",
    "print(my_dict)"
   ]
  },
  {
   "cell_type": "code",
   "execution_count": 28,
   "id": "renewable-british",
   "metadata": {},
   "outputs": [
    {
     "ename": "TypeError",
     "evalue": "unhashable type: 'list'",
     "output_type": "error",
     "traceback": [
      "\u001b[0;31m---------------------------------------------------------------------------\u001b[0m",
      "\u001b[0;31mTypeError\u001b[0m                                 Traceback (most recent call last)",
      "\u001b[0;32m<ipython-input-28-f289c9dd261f>\u001b[0m in \u001b[0;36m<module>\u001b[0;34m\u001b[0m\n\u001b[1;32m      1\u001b[0m \u001b[0mmy_list\u001b[0m \u001b[0;34m=\u001b[0m \u001b[0;34m[\u001b[0m\u001b[0;36m8\u001b[0m\u001b[0;34m,\u001b[0m\u001b[0;36m7\u001b[0m\u001b[0;34m]\u001b[0m\u001b[0;34m\u001b[0m\u001b[0;34m\u001b[0m\u001b[0m\n\u001b[0;32m----> 2\u001b[0;31m \u001b[0mmy_dict\u001b[0m \u001b[0;34m=\u001b[0m \u001b[0;34m{\u001b[0m\u001b[0mmy_list\u001b[0m\u001b[0;34m:\u001b[0m\u001b[0;36m15\u001b[0m\u001b[0;34m}\u001b[0m\u001b[0;34m\u001b[0m\u001b[0;34m\u001b[0m\u001b[0m\n\u001b[0m\u001b[1;32m      3\u001b[0m \u001b[0;34m\u001b[0m\u001b[0m\n\u001b[1;32m      4\u001b[0m \u001b[0mprint\u001b[0m\u001b[0;34m(\u001b[0m\u001b[0mmy_dict\u001b[0m\u001b[0;34m)\u001b[0m\u001b[0;34m\u001b[0m\u001b[0;34m\u001b[0m\u001b[0m\n",
      "\u001b[0;31mTypeError\u001b[0m: unhashable type: 'list'"
     ]
    }
   ],
   "source": [
    "my_list = [8,7]\n",
    "my_dict = {my_list:15}\n",
    "\n",
    "print(my_dict)"
   ]
  },
  {
   "cell_type": "code",
   "execution_count": null,
   "id": "exceptional-camel",
   "metadata": {},
   "outputs": [],
   "source": []
  }
 ],
 "metadata": {
  "kernelspec": {
   "display_name": "Python 3",
   "language": "python",
   "name": "python3"
  },
  "language_info": {
   "codemirror_mode": {
    "name": "ipython",
    "version": 3
   },
   "file_extension": ".py",
   "mimetype": "text/x-python",
   "name": "python",
   "nbconvert_exporter": "python",
   "pygments_lexer": "ipython3",
   "version": "3.6.12"
  }
 },
 "nbformat": 4,
 "nbformat_minor": 5
}
